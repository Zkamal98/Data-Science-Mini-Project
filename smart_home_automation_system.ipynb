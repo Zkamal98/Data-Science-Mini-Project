{
  "nbformat": 4,
  "nbformat_minor": 0,
  "metadata": {
    "colab": {
      "provenance": [],
      "include_colab_link": true
    },
    "kernelspec": {
      "name": "python3",
      "display_name": "Python 3"
    },
    "language_info": {
      "name": "python"
    }
  },
  "cells": [
    {
      "cell_type": "markdown",
      "metadata": {
        "id": "view-in-github",
        "colab_type": "text"
      },
      "source": [
        "<a href=\"https://colab.research.google.com/github/Zkamal98/Data-Science-Mini-Project/blob/main/smart_home_automation_system.ipynb\" target=\"_parent\"><img src=\"https://colab.research.google.com/assets/colab-badge.svg\" alt=\"Open In Colab\"/></a>"
      ]
    },
    {
      "cell_type": "markdown",
      "source": [
        "**1.\tDevice Management (Lists & Tuples)**"
      ],
      "metadata": {
        "id": "2KzfPP9lk7Fh"
      }
    },
    {
      "cell_type": "markdown",
      "source": [
        "Task 1.1: Create and Manage a List of Smart Devices"
      ],
      "metadata": {
        "id": "Lssj0i3OosX2"
      }
    },
    {
      "cell_type": "code",
      "execution_count": null,
      "metadata": {
        "id": "QImkZCr2kGIu"
      },
      "outputs": [],
      "source": [
        "devices=[\"Lights\", \"Fan\", \"AC\", \"Door Lock\", \"Thermostat\"] #Create a list of at least 5 smart home devices"
      ]
    },
    {
      "cell_type": "code",
      "source": [
        "devices.extend([\"Security Camera\",\"Smart Sensors\"]) #adding a device"
      ],
      "metadata": {
        "id": "pn9l0f43lcet"
      },
      "execution_count": null,
      "outputs": []
    },
    {
      "cell_type": "code",
      "source": [
        "print(devices)"
      ],
      "metadata": {
        "colab": {
          "base_uri": "https://localhost:8080/"
        },
        "id": "VAqacgb-lpU-",
        "outputId": "b6cfd5b7-53ab-4b52-aba2-757f4cda16e5"
      },
      "execution_count": null,
      "outputs": [
        {
          "output_type": "stream",
          "name": "stdout",
          "text": [
            "['Lights', 'Fan', 'AC', 'Door Lock', 'Thermostat', 'Security Camera', 'Smart Sensors']\n"
          ]
        }
      ]
    },
    {
      "cell_type": "code",
      "source": [
        "devices.pop(-1) #Remove a device."
      ],
      "metadata": {
        "colab": {
          "base_uri": "https://localhost:8080/",
          "height": 35
        },
        "id": "IsE2rrHflriW",
        "outputId": "9d87e8e1-cbbf-4249-c25a-39a619ea3e53"
      },
      "execution_count": null,
      "outputs": [
        {
          "output_type": "execute_result",
          "data": {
            "text/plain": [
              "'Smart Sensors'"
            ],
            "application/vnd.google.colaboratory.intrinsic+json": {
              "type": "string"
            }
          },
          "metadata": {},
          "execution_count": 14
        }
      ]
    },
    {
      "cell_type": "code",
      "source": [
        "devices"
      ],
      "metadata": {
        "colab": {
          "base_uri": "https://localhost:8080/"
        },
        "id": "2WDQYGHEoCye",
        "outputId": "2285158e-9f95-4a1d-9b50-f43708c498a5"
      },
      "execution_count": null,
      "outputs": [
        {
          "output_type": "execute_result",
          "data": {
            "text/plain": [
              "['Lights', 'Fan', 'AC', 'Door Lock', 'Thermostat', 'Security Camera']"
            ]
          },
          "metadata": {},
          "execution_count": 15
        }
      ]
    },
    {
      "cell_type": "code",
      "source": [
        "sorted_device=sorted(devices)#Sort devices alphabetically"
      ],
      "metadata": {
        "id": "HyGynrRunDac"
      },
      "execution_count": null,
      "outputs": []
    },
    {
      "cell_type": "code",
      "source": [
        "print(sorted_device)"
      ],
      "metadata": {
        "colab": {
          "base_uri": "https://localhost:8080/"
        },
        "id": "KwQCeyq8nM65",
        "outputId": "a632fcb5-610e-4ba8-aa93-603076fa7a9e"
      },
      "execution_count": null,
      "outputs": [
        {
          "output_type": "stream",
          "name": "stdout",
          "text": [
            "['AC', 'Door Lock', 'Fan', 'Lights', 'Security Camera', 'Thermostat']\n"
          ]
        }
      ]
    },
    {
      "cell_type": "markdown",
      "source": [
        "Task 1.2: Store Device Settings Using Tuples"
      ],
      "metadata": {
        "id": "ns6Q-j7qouOB"
      }
    },
    {
      "cell_type": "code",
      "source": [
        "light =[]\n",
        "fan=[]\n",
        "ac=[]\n",
        "\n",
        "tuple_range=int(input(\"How many tuples you want:\"))\n",
        "\n",
        "for i in range(tuple_range):\n",
        "  empty_list=[]\n",
        "  print(f\"Enter values for tuple{i+1}:\")\n",
        "  while True:\n",
        "   name= input(\"  Enter name of a device: \")# #Define a tuple for each device, containing(Device name,Device status (ON/OFF),Device power consumption (in Watts))\n",
        "   status= input(\"  Enter status of a device: \")\n",
        "   power= int(input(\"  Enter power of a device(in watss): \"))\n",
        "   break\n",
        "\n",
        "  empty_list.extend([name,status,power])\n",
        "  if  name.lower()==\"light\" or name.upper()==\"light\":\n",
        "    light=tuple(empty_list) #insert into list by converting it in tuples\n",
        "\n",
        "  elif name.lower()==\"fan\"  or name.upper()==\"light\":\n",
        "    fan=tuple(empty_list)\n",
        "\n",
        "  elif name.lower()==\"ac\"  or name.upper()==\"light\":\n",
        "    ac=tuple(empty_list)\n",
        "\n",
        "print(\"\\n\")\n",
        "print(\"light:{}\".format(light))\n",
        "print(\"fan:{}\".format(fan))\n",
        "print(\"ac:{}\".format(ac))\n"
      ],
      "metadata": {
        "id": "EIExMbJxxNEJ",
        "colab": {
          "base_uri": "https://localhost:8080/"
        },
        "outputId": "95f51102-320e-4db0-ce6a-dad8489d6f33"
      },
      "execution_count": null,
      "outputs": [
        {
          "output_type": "stream",
          "name": "stdout",
          "text": [
            "How many tuples you want:3\n",
            "Enter values for tuple1:\n",
            "  Enter name of a device: fan\n",
            "  Enter status of a device: off\n",
            "  Enter power of a device(in watss): 40\n",
            "Enter values for tuple2:\n",
            "  Enter name of a device: light\n",
            "  Enter status of a device: on\n",
            "  Enter power of a device(in watss): 60\n",
            "Enter values for tuple3:\n",
            "  Enter name of a device: ac\n",
            "  Enter status of a device: on\n",
            "  Enter power of a device(in watss): 1500\n",
            "\n",
            "\n",
            "light:('light', 'on', 60)\n",
            "fan:('fan', 'off', 40)\n",
            "ac:('ac', 'on', 1500)\n"
          ]
        }
      ]
    },
    {
      "cell_type": "markdown",
      "source": [
        "**2.\tEnergy Consumption Tracker (Dictionaries & Sets)**"
      ],
      "metadata": {
        "id": "8l_gs-8Epq6s"
      }
    },
    {
      "cell_type": "markdown",
      "source": [
        "Task 2.1: Store Device Energy Usage in a Dictionary"
      ],
      "metadata": {
        "id": "jvNYbv3Xpyfn"
      }
    },
    {
      "cell_type": "code",
      "source": [
        "device_energy_usage={}"
      ],
      "metadata": {
        "id": "cEmAvb-u4pgV"
      },
      "execution_count": null,
      "outputs": []
    },
    {
      "cell_type": "code",
      "source": [
        "smart_home_devices=[\"Lights\",\"AC\",\"Fan\"]\n",
        "for device in smart_home_devices:\n",
        "    usage = int(input(f\"Enter energy usage (kWh) for {device}: \")) #Create a dictionary where(Keys: Smart home devices (e.g., \"Lights\", \"AC\", \"Fan\"),)\n",
        "    device_energy_usage[device] = usage                            #Values: Energy usage (in kWh).\n",
        "inital_values=device_energy_usage.copy()\n",
        "\n",
        "for updated_device in device_energy_usage:\n",
        "    updated_usage = int(input(f\"Enter updated energy usage (kWh) for {updated_device}: \"))\n",
        "    device_energy_usage[updated_device] = updated_usage\n",
        "print(\"\\n\")\n",
        "print(\"Initial Energy Usage:\")\n",
        "print(inital_values)\n",
        "\n",
        "updated_values=device_energy_usage\n",
        "print(\"Updated Energy Usage:\")\n",
        "print(updated_values)\n",
        "print(\"\\n\")\n",
        "\n",
        "updated_values[\"Thermostate\"]=20 #Add new energy usage data\n",
        "print(\"After adding new energy usage updated devices are\")\n",
        "#print both initial and updated devices\n",
        "print(\"Initial Energy Usage:\")\n",
        "print(inital_values)\n",
        "print(\"Updated Energy Usage:\")\n",
        "print(updated_values)\n",
        "\n",
        "print(\"\\n\")\n",
        "Total_consumption=sum(device_energy_usage.values()) #Display total energy consumption.\n",
        "print(f\"Total energy consumption: {Total_consumption} kWh\")\n",
        "\n"
      ],
      "metadata": {
        "colab": {
          "base_uri": "https://localhost:8080/"
        },
        "id": "u38YXIfnqD46",
        "outputId": "46e4d154-97d2-4c6f-978c-969974049954"
      },
      "execution_count": null,
      "outputs": [
        {
          "output_type": "stream",
          "name": "stdout",
          "text": [
            "Enter energy usage (kWh) for Lights: 5\n",
            "Enter energy usage (kWh) for AC: 120\n",
            "Enter energy usage (kWh) for Fan: 30\n",
            "Enter updated energy usage (kWh) for Lights: 5\n",
            "Enter updated energy usage (kWh) for AC: 110\n",
            "Enter updated energy usage (kWh) for Fan: 30\n",
            "\n",
            "\n",
            "Initial Energy Usage:\n",
            "{'Lights': 5, 'AC': 120, 'Fan': 30}\n",
            "Updated Energy Usage:\n",
            "{'Lights': 5, 'AC': 110, 'Fan': 30}\n",
            "\n",
            "\n",
            "After adding new energy usage updated devices are\n",
            "Initial Energy Usage:\n",
            "{'Lights': 5, 'AC': 120, 'Fan': 30}\n",
            "Updated Energy Usage:\n",
            "{'Lights': 5, 'AC': 110, 'Fan': 30, 'Thermostate': 20}\n",
            "\n",
            "\n",
            "Total energy consumption: 165 kWh\n"
          ]
        }
      ]
    },
    {
      "cell_type": "code",
      "source": [
        "del device_energy_usage['Thermostate'] #Remove a device's energy usage."
      ],
      "metadata": {
        "id": "1ucpdxBsx9_m"
      },
      "execution_count": null,
      "outputs": []
    },
    {
      "cell_type": "code",
      "source": [
        "device_energy_usage"
      ],
      "metadata": {
        "colab": {
          "base_uri": "https://localhost:8080/"
        },
        "id": "Lhh8VUn6zGcl",
        "outputId": "03551379-3b9e-44c0-f1a4-f10d07e2d934"
      },
      "execution_count": null,
      "outputs": [
        {
          "output_type": "execute_result",
          "data": {
            "text/plain": [
              "{'Lights': 5, 'AC': 110, 'Fan': 30}"
            ]
          },
          "metadata": {},
          "execution_count": 82
        }
      ]
    },
    {
      "cell_type": "markdown",
      "source": [
        "Task 2.2: Identify Unique Power-Saving Modes Using Sets"
      ],
      "metadata": {
        "id": "rU45F_oY9cGb"
      }
    },
    {
      "cell_type": "code",
      "source": [
        "power_saving_modes={\"Eco Mode\", \"Night Mode\"} #Create a set to store unique power-saving modes\n",
        "print(\"Power Saving Modes:{}\".format(power_saving_modes))\n",
        "new_mode_added={\"Away Mode\"} #Add new power-saving mode\n",
        "print(\"New Mode Added:{}\".format(new_mode_added)) #Check if a mode is available\n",
        "power_saving_modes.update(new_mode_added)#View all power-saving modes\n",
        "print(\"Updated Modes:{}\".format(power_saving_modes))"
      ],
      "metadata": {
        "colab": {
          "base_uri": "https://localhost:8080/"
        },
        "id": "RdNKbLyK811I",
        "outputId": "e8a70559-f700-4d4e-bb78-5d5927eb07e5"
      },
      "execution_count": null,
      "outputs": [
        {
          "output_type": "stream",
          "name": "stdout",
          "text": [
            "Power Saving Modes:{'Eco Mode', 'Night Mode'}\n",
            "New Mode Added:{'Away Mode'}\n",
            "Updated Modes:{'Away Mode', 'Eco Mode', 'Night Mode'}\n"
          ]
        }
      ]
    },
    {
      "cell_type": "markdown",
      "source": [
        "**3.\tFunctions for Smart Home Automation Task**"
      ],
      "metadata": {
        "id": "4bgbTdQvFYmu"
      }
    },
    {
      "cell_type": "markdown",
      "source": [
        "3.1\t: Create a Function to Calculate Monthly Energy Cost"
      ],
      "metadata": {
        "id": "m3QvpH6gFchA"
      }
    },
    {
      "cell_type": "code",
      "source": [
        "def calculate_energy_cost(energy_usage, rate_per_kwh):\n",
        "  return energy_usage * rate_per_kwh\n",
        "\n",
        "electricity_rate_per_kwh=float(input(\"Enter electricity rate per kwh:\"))\n",
        "print(\"Total Energy Consumption:{} kwh\".format(Total_consumption))\n",
        "print(\"Monthly Energy Cost:${}\".format(calculate_energy_cost(Total_consumption,electricity_rate_per_kwh)))"
      ],
      "metadata": {
        "colab": {
          "base_uri": "https://localhost:8080/"
        },
        "id": "4vIqF1rx83Ew",
        "outputId": "df5e96a0-e937-445d-a8de-fcd62384e7b6"
      },
      "execution_count": null,
      "outputs": [
        {
          "output_type": "stream",
          "name": "stdout",
          "text": [
            "Enter electricity rate per kwh:0.12\n",
            "Total Energy Consumption:165 kwh\n",
            "Monthly Energy Cost:$19.8\n"
          ]
        }
      ]
    },
    {
      "cell_type": "markdown",
      "source": [
        "3.2: Create a Function to Find Common Devices in Two Homes"
      ],
      "metadata": {
        "id": "S7PAWDmFI6Hz"
      }
    },
    {
      "cell_type": "code",
      "source": [
        "def find_common_devices(home1, home2):\n",
        "  return set(home1) & set(home2)\n",
        "home1_devices = ['Lights', 'AC', 'Fan']\n",
        "home2_devices = ['Fan', 'Door Lock', 'Lights']\n",
        "common_devices = find_common_devices(home1_devices, home2_devices)\n",
        "print(\"Common Devices:\", common_devices)"
      ],
      "metadata": {
        "colab": {
          "base_uri": "https://localhost:8080/"
        },
        "id": "IkEMJ6jkCR6l",
        "outputId": "0c46163e-cf9c-4a19-d931-c582a643e94f"
      },
      "execution_count": null,
      "outputs": [
        {
          "output_type": "stream",
          "name": "stdout",
          "text": [
            "Common Devices: {'Lights', 'Fan'}\n"
          ]
        }
      ]
    },
    {
      "cell_type": "markdown",
      "source": [
        "**4.\tAutomation Features (Advanced Functions)**"
      ],
      "metadata": {
        "id": "9hiOkpVvJwRo"
      }
    },
    {
      "cell_type": "markdown",
      "source": [
        "Task 4.1: Create an Automation Rule Using Functions"
      ],
      "metadata": {
        "id": "z17eKAr_J4G2"
      }
    },
    {
      "cell_type": "code",
      "source": [
        "def set_automation_rule(device, time, action):\n",
        "  return (\"Automation Rule: {} will be turned {} at {}.\".format(device, action, time))\n",
        "\n",
        "name = \"Light\"\n",
        "time = \"10:00 pm\"\n",
        "action = \"OFF\"\n",
        "\n",
        "automation_rule = set_automation_rule(name, time, action)\n",
        "print(automation_rule)"
      ],
      "metadata": {
        "colab": {
          "base_uri": "https://localhost:8080/"
        },
        "id": "d9xY90GpJ8BK",
        "outputId": "acbbff94-cd66-4b5c-f453-6794dc928ea8"
      },
      "execution_count": null,
      "outputs": [
        {
          "output_type": "stream",
          "name": "stdout",
          "text": [
            "Automation Rule: Light will be turned OFF at 10:00 pm.\n"
          ]
        }
      ]
    },
    {
      "cell_type": "markdown",
      "source": [
        "Task 4.2: Function to Optimize Power Consumption"
      ],
      "metadata": {
        "id": "Ml4Zj7DWLnM2"
      }
    },
    {
      "cell_type": "code",
      "source": [
        "def optimize_power(devices):\n",
        "   active_devices = []\n",
        "   for device in devices:\n",
        "      name, power = device\n",
        "      if power <= 1000:      # Check if the device uses 1000W or less\n",
        "        active_devices.append(name)\n",
        "   return active_devices\n",
        "\n",
        "devices = [(\"Lights\", 60), (\"AC\", 1500), (\"Fan\", 40), (\"Heater\",2000)]\n",
        "result = optimize_power(devices)\n",
        "print(result)"
      ],
      "metadata": {
        "id": "VEODAl5eK8qZ",
        "colab": {
          "base_uri": "https://localhost:8080/"
        },
        "outputId": "9f88fbdd-51f4-48d8-9bf0-9a43c79e66f0"
      },
      "execution_count": null,
      "outputs": [
        {
          "output_type": "stream",
          "name": "stdout",
          "text": [
            "['Lights', 'Fan']\n"
          ]
        }
      ]
    },
    {
      "cell_type": "markdown",
      "source": [
        "**Bonus Challenge (Optional)**"
      ],
      "metadata": {
        "id": "TNgmRIQyDnho"
      }
    },
    {
      "cell_type": "markdown",
      "source": [
        "Smart Home AI Assistant (Using *args & ***kwargs)\n",
        "\n",
        "\n",
        "\n",
        "\n",
        "\n",
        "\n",
        "\n"
      ],
      "metadata": {
        "id": "EGouY38DDtbz"
      }
    },
    {
      "cell_type": "code",
      "source": [
        "def smart_home_assistant(name, *args, **kwargs):\n",
        "  print(\"Home Owner:\",name)\n",
        "  if args: #check for args\n",
        "        print(\"Checking status for:\")\n",
        "        for device_name in args:\n",
        "          print(f\"{device_name}\")\n",
        "\n",
        "  if kwargs: #check for kwargs\n",
        "        for key, value in kwargs.items():\n",
        "            print(f\"{key} set to {value}\")\n",
        "\n",
        "smart_home_assistant(\"ALICE\",\"Light\", \"AC\",lights=\"OFF\", AC=\"ON\")"
      ],
      "metadata": {
        "colab": {
          "base_uri": "https://localhost:8080/"
        },
        "id": "siyCNavi-d3d",
        "outputId": "c618727e-890a-4292-f597-8a99646373e9"
      },
      "execution_count": null,
      "outputs": [
        {
          "output_type": "stream",
          "name": "stdout",
          "text": [
            "Home Owner: ALICE\n",
            "Checking status for:\n",
            "Light\n",
            "AC\n",
            "lights set to OFF\n",
            "AC set to ON\n"
          ]
        }
      ]
    },
    {
      "cell_type": "code",
      "source": [],
      "metadata": {
        "id": "VE8-NUDBChKw"
      },
      "execution_count": null,
      "outputs": []
    }
  ]
}